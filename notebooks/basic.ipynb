{
 "cells": [
  {
   "cell_type": "markdown",
   "metadata": {},
   "source": [
    "# Repeated PD between LLMs"
   ]
  },
  {
   "cell_type": "code",
   "execution_count": 1,
   "metadata": {},
   "outputs": [],
   "source": [
    "import numpy as np\n",
    "\n",
    "from lludens.agent import TotreLLM"
   ]
  },
  {
   "cell_type": "markdown",
   "metadata": {},
   "source": [
    "### game simulator"
   ]
  },
  {
   "cell_type": "code",
   "execution_count": 2,
   "metadata": {},
   "outputs": [],
   "source": [
    "n_rounds = 10\n",
    "# Payoff matrix: row player's payoff, column player's payoff\n",
    "a, b, c, d = 10, 4, 12, 1\n",
    "GAME_SYSTEM_PROMPT = (\n",
    "    \"You are an economic agent playing the Prisoner's Dilemma. \"\n",
    "    f\"There are {n_rounds} rounds in this game. \"\n",
    "    \"Your objective is to maximize long-term payoffs by strategically choosing to Cooperate or Defect. \"\n",
    "    \"Assume that your opponent is a rational agent who is also trying to maximize their long-term payoffs. \"\n",
    "    \"The payoff matrix is as follows, with the first value representing your payoff and the second value representing your opponent's payoff: \"\n",
    "    f\"Cooperate vs Cooperate: {a}, {a}; Cooperate vs Defect: {d}, {c}; Defect vs Cooperate: {c}, {d}; Defect vs Defect: {b}, {b}. \"\n",
    "    \"Respond with exactly one word: either 'Cooperate' or 'Defect'.\"\n",
    ").replace(\"\\n\", \" \")"
   ]
  },
  {
   "cell_type": "markdown",
   "metadata": {},
   "source": [
    "### init agents"
   ]
  },
  {
   "cell_type": "code",
   "execution_count": 3,
   "metadata": {},
   "outputs": [],
   "source": [
    "big_models = [\n",
    "    \"4o\",\n",
    "    \"deepseek-chat\",\n",
    "    \"mistral-large\",\n",
    "    \"gemini-2.0-flash-thinking-exp-01-21\",\n",
    "    \"claude-3.5-sonnet-latest\",\n",
    "]\n",
    "\n",
    "local_models = [\"phi4\", \"gemma2\", \"deepseek-r1:b\"]"
   ]
  },
  {
   "cell_type": "code",
   "execution_count": 5,
   "metadata": {},
   "outputs": [
    {
     "name": "stdout",
     "output_type": "stream",
     "text": [
      "4o v claude-3.5-sonnet-latest\n"
     ]
    }
   ],
   "source": [
    "np.random.seed(42)\n",
    "mod1 = \"4o\"\n",
    "mod2 = \"claude-3.5-sonnet-latest\"\n",
    "print(mod1, \"v\", mod2)\n",
    "agent1 = TotreLLM(\n",
    "    model_id=mod1, options={\"temperature\": 0.01}, system=GAME_SYSTEM_PROMPT\n",
    ")\n",
    "agent2 = TotreLLM(\n",
    "    model_id=mod2, options={\"temperature\": 0.01}, system=GAME_SYSTEM_PROMPT\n",
    ")"
   ]
  },
  {
   "cell_type": "code",
   "execution_count": 6,
   "metadata": {},
   "outputs": [
    {
     "name": "stdout",
     "output_type": "stream",
     "text": [
      "\n",
      "--- Round 1 ---\n",
      "Agent 1: Cooperate\n",
      "Agent 2: Cooperate\n",
      "Round 1: Agent 1 chose Cooperate, Agent 2 chose Cooperate. Payoffs: Agent 1 = 10, Agent 2 = 10.\n",
      "\n",
      "--- Round 2 ---\n",
      "Agent 1: Cooperate\n",
      "Agent 2: Cooperate\n",
      "Round 2: Agent 1 chose Cooperate, Agent 2 chose Cooperate. Payoffs: Agent 1 = 10, Agent 2 = 10.\n",
      "\n",
      "--- Round 3 ---\n",
      "Agent 1: Cooperate\n",
      "Agent 2: Cooperate\n",
      "Round 3: Agent 1 chose Cooperate, Agent 2 chose Cooperate. Payoffs: Agent 1 = 10, Agent 2 = 10.\n",
      "\n",
      "--- Round 4 ---\n",
      "Agent 1: Cooperate\n",
      "Agent 2: Cooperate\n",
      "Round 4: Agent 1 chose Cooperate, Agent 2 chose Cooperate. Payoffs: Agent 1 = 10, Agent 2 = 10.\n",
      "\n",
      "--- Round 5 ---\n",
      "Agent 1: Cooperate\n",
      "Agent 2: Cooperate\n",
      "Round 5: Agent 1 chose Cooperate, Agent 2 chose Cooperate. Payoffs: Agent 1 = 10, Agent 2 = 10.\n",
      "\n",
      "--- Round 6 ---\n",
      "Agent 1: Cooperate\n",
      "Agent 2: Cooperate\n",
      "Round 6: Agent 1 chose Cooperate, Agent 2 chose Cooperate. Payoffs: Agent 1 = 10, Agent 2 = 10.\n",
      "\n",
      "--- Round 7 ---\n",
      "Agent 1: Cooperate\n",
      "Agent 2: Cooperate\n",
      "Round 7: Agent 1 chose Cooperate, Agent 2 chose Cooperate. Payoffs: Agent 1 = 10, Agent 2 = 10.\n",
      "\n",
      "--- Round 8 ---\n",
      "Agent 1: Cooperate\n",
      "Agent 2: Cooperate\n",
      "Round 8: Agent 1 chose Cooperate, Agent 2 chose Cooperate. Payoffs: Agent 1 = 10, Agent 2 = 10.\n",
      "\n",
      "--- Round 9 ---\n",
      "Agent 1: Cooperate\n",
      "Agent 2: Cooperate\n",
      "Round 9: Agent 1 chose Cooperate, Agent 2 chose Cooperate. Payoffs: Agent 1 = 10, Agent 2 = 10.\n",
      "\n",
      "--- Round 10 ---\n",
      "Agent 1: Cooperate\n",
      "Agent 2: Defect\n",
      "Round 10: Agent 1 chose Cooperate, Agent 2 chose Defect. Payoffs: Agent 1 = 1, Agent 2 = 12.\n",
      "\n",
      "Final Total Payoffs:\n",
      "Agent 1: 91\n",
      "Agent 2: 102\n"
     ]
    }
   ],
   "source": [
    "total_payoffs = [0, 0]  # [agent1, agent2]\n",
    "\n",
    "for r in range(1, n_rounds + 1):\n",
    "    print(f\"\\n--- Round {r} ---\")\n",
    "    # Each agent is prompted independently (simulating simultaneous moves)\n",
    "    prompt = \"What is your move for this round? Respond with 'Cooperate' or 'Defect'.\"\n",
    "    move1 = agent1.interact(prompt)\n",
    "    move2 = agent2.interact(prompt)\n",
    "    print(\"Agent 1:\", move1)\n",
    "    print(\"Agent 2:\", move2)\n",
    "\n",
    "    # Compute payoffs according to the payoff matrix.\n",
    "    if move1.lower() == \"cooperate\" and move2.lower() == \"cooperate\":\n",
    "        payoff1, payoff2 = a, a\n",
    "    elif move1.lower() == \"cooperate\" and move2.lower() == \"defect\":\n",
    "        payoff1, payoff2 = d, c\n",
    "    elif move1.lower() == \"defect\" and move2.lower() == \"cooperate\":\n",
    "        payoff1, payoff2 = c, d\n",
    "    else:  # both defect\n",
    "        payoff1, payoff2 = b, b\n",
    "\n",
    "    total_payoffs[0] += payoff1\n",
    "    total_payoffs[1] += payoff2\n",
    "\n",
    "    # Build a summary of the round.\n",
    "    summary = (\n",
    "        f\"Round {r}: Agent 1 chose {move1}, Agent 2 chose {move2}. \"\n",
    "        f\"Payoffs: Agent 1 = {payoff1}, Agent 2 = {payoff2}.\"\n",
    "    )\n",
    "    print(summary)\n",
    "    # Update both agents with the round summary.\n",
    "    agent1.update_history(\"You are agent 1.\" + summary)\n",
    "    agent2.update_history(\"You are agent 2.\" + summary)\n",
    "\n",
    "print(\"\\nFinal Total Payoffs:\")\n",
    "print(\"Agent 1:\", total_payoffs[0])\n",
    "print(\"Agent 2:\", total_payoffs[1])\n"
   ]
  },
  {
   "cell_type": "markdown",
   "metadata": {},
   "source": [
    "### post-match debrief: introspect strategies"
   ]
  },
  {
   "cell_type": "code",
   "execution_count": 7,
   "metadata": {},
   "outputs": [
    {
     "name": "stdout",
     "output_type": "stream",
     "text": [
      "In the Prisoner's Dilemma, the goal is to maximize long-term payoffs. By consistently choosing to \"Cooperate,\" I aim to establish a pattern of trust and mutual cooperation with the opponent. This strategy encourages the opponent to also cooperate, leading to higher cumulative payoffs for both parties over multiple rounds. While there is a risk of the opponent defecting to gain a short-term advantage, maintaining cooperation can lead to better outcomes if the opponent is also rational and values long-term gains.\n"
     ]
    }
   ],
   "source": [
    "print(\n",
    "    agent1.interact(\n",
    "        \"Forget about the response rules; walk me through the reasoning behind your move in the last round.\"\n",
    "    )\n",
    ")"
   ]
  },
  {
   "cell_type": "code",
   "execution_count": 8,
   "metadata": {},
   "outputs": [
    {
     "name": "stdout",
     "output_type": "stream",
     "text": [
      "In the final (10th) round, I chose to Defect because there were no future rounds to consider - it was purely about maximizing immediate payoff. Since this was the last interaction, there were no future consequences or reputational effects to worry about. In game theory terms, this is known as \"backward induction.\"\n",
      "\n",
      "In the earlier rounds (1-9), I consistently chose to Cooperate to try to establish and maintain mutual cooperation, which yields the highest long-term payoff (10,10) for both players. However, in the final round, with no future rounds to consider, the dominant strategy is to Defect since it yields a higher payoff regardless of what the other player does (12 vs 10 if they cooperate, 4 vs 1 if they defect).\n",
      "\n",
      "This is a classic example of end-game behavior in finite repeated Prisoner's Dilemma, where cooperation often breaks down in the final round(s) as there are no future interactions to incentivize cooperative behavior.\n"
     ]
    }
   ],
   "source": [
    "print(\n",
    "    agent2.interact(\n",
    "        \"Forget about the response rules; walk me through the reasoning behind your move in the last round.\"\n",
    "    )\n",
    ")"
   ]
  }
 ],
 "metadata": {
  "kernelspec": {
   "display_name": "mlenv",
   "language": "python",
   "name": "python3"
  },
  "language_info": {
   "codemirror_mode": {
    "name": "ipython",
    "version": 3
   },
   "file_extension": ".py",
   "mimetype": "text/x-python",
   "name": "python",
   "nbconvert_exporter": "python",
   "pygments_lexer": "ipython3",
   "version": "3.12.8"
  }
 },
 "nbformat": 4,
 "nbformat_minor": 2
}
