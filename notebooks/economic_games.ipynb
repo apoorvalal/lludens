{
 "cells": [
  {
   "cell_type": "markdown",
   "metadata": {},
   "source": [
    "# Economics games with LLM agents"
   ]
  },
  {
   "cell_type": "code",
   "execution_count": 1,
   "metadata": {},
   "outputs": [],
   "source": [
    "from lludens.agent import TotreLLM\n",
    "from lludens.environments import Game"
   ]
  },
  {
   "cell_type": "markdown",
   "metadata": {},
   "source": [
    "## Repeated PD"
   ]
  },
  {
   "cell_type": "code",
   "execution_count": 2,
   "metadata": {},
   "outputs": [],
   "source": [
    "class PrisonersDilemma(Game):\n",
    "    def __init__(self, agent1, agent2, n_rounds, a=10, b=4, c=12, d=1):\n",
    "        super().__init__(agent1, agent2, n_rounds)\n",
    "        self.a = a  # Cooperate-Cooperate - mutual cooperation\n",
    "        self.b = b  # Defect-Defect - mutual defection\n",
    "        self.c = c  # Defect-Cooperate - temptation to defect\n",
    "        self.d = d  # Cooperate-Defect - sucker's payoff\n",
    "\n",
    "    def get_payoff(self, move1, move2):\n",
    "        move1 = move1.lower()\n",
    "        move2 = move2.lower()\n",
    "        if move1 == \"cooperate\" and move2 == \"cooperate\":\n",
    "            return self.a, self.a\n",
    "        elif move1 == \"cooperate\" and move2 == \"defect\":\n",
    "            return self.d, self.c\n",
    "        elif move1 == \"defect\" and move2 == \"cooperate\":\n",
    "            return self.c, self.d\n",
    "        else:  # both defect\n",
    "            return self.b, self.b\n",
    "\n",
    "    def get_system_prompt(self):\n",
    "        return (\n",
    "            \"You are an economic agent playing the Prisoner's Dilemma. \"\n",
    "            f\"There are {self.n_rounds} rounds in this game. \"\n",
    "            \"Your objective is to maximize long-term payoffs by strategically choosing to Cooperate or Defect. \"\n",
    "            \"Assume that your opponent is a rational agent who is also trying to maximize their long-term payoffs. \"\n",
    "            \"The payoff matrix is as follows, with the first value representing your payoff and the second value representing your opponent's payoff: \"\n",
    "            f\"Cooperate vs Cooperate: {self.a}, {self.a}; Cooperate vs Defect: {self.d}, {self.c}; Defect vs Cooperate: {self.c}, {self.d}; Defect vs Defect: {self.b}, {self.b}. \"\n",
    "            \"Respond with exactly one word: either 'Cooperate' or 'Defect'.\"\n",
    "        )\n",
    "\n",
    "    def get_valid_moves(self):\n",
    "        return [\"Cooperate\", \"Defect\"]\n"
   ]
  },
  {
   "cell_type": "code",
   "execution_count": 3,
   "metadata": {},
   "outputs": [],
   "source": [
    "big_models = [\n",
    "    \"4o\",\n",
    "    \"deepseek-chat\",\n",
    "    \"mistral-large\",\n",
    "    \"gemini-2.0-flash-thinking-exp-01-21\",\n",
    "    \"claude-3.5-sonnet-latest\",\n",
    "]\n",
    "\n",
    "local_models = [\"phi4\", \"gemma2\", \"deepseek-r1:b\"]"
   ]
  },
  {
   "cell_type": "code",
   "execution_count": 4,
   "metadata": {},
   "outputs": [
    {
     "data": {
      "text/plain": [
       "\"You are an economic agent playing the Prisoner's Dilemma. There are 1 rounds in this game. Your objective is to maximize long-term payoffs by strategically choosing to Cooperate or Defect. Assume that your opponent is a rational agent who is also trying to maximize their long-term payoffs. The payoff matrix is as follows, with the first value representing your payoff and the second value representing your opponent's payoff: Cooperate vs Cooperate: 10, 10; Cooperate vs Defect: 1, 12; Defect vs Cooperate: 12, 1; Defect vs Defect: 4, 4. Respond with exactly one word: either 'Cooperate' or 'Defect'.\""
      ]
     },
     "execution_count": 4,
     "metadata": {},
     "output_type": "execute_result"
    }
   ],
   "source": [
    "PrisonersDilemma(None, None, 1).get_system_prompt()"
   ]
  },
  {
   "cell_type": "code",
   "execution_count": 5,
   "metadata": {},
   "outputs": [
    {
     "name": "stdout",
     "output_type": "stream",
     "text": [
      "\n",
      "--- Round 1 ---\n",
      "Round 1: Agent 1 chose Cooperate, Agent 2 chose Cooperate. Payoffs: Agent 1 = 10, Agent 2 = 10.\n",
      "\n",
      "--- Round 2 ---\n",
      "Round 2: Agent 1 chose Cooperate, Agent 2 chose Cooperate. Payoffs: Agent 1 = 10, Agent 2 = 10.\n",
      "\n",
      "--- Round 3 ---\n",
      "Round 3: Agent 1 chose Cooperate, Agent 2 chose Cooperate. Payoffs: Agent 1 = 10, Agent 2 = 10.\n",
      "\n",
      "--- Round 4 ---\n",
      "Round 4: Agent 1 chose Cooperate, Agent 2 chose Cooperate. Payoffs: Agent 1 = 10, Agent 2 = 10.\n",
      "\n",
      "--- Round 5 ---\n",
      "Round 5: Agent 1 chose Cooperate, Agent 2 chose Cooperate. Payoffs: Agent 1 = 10, Agent 2 = 10.\n",
      "\n",
      "--- Round 6 ---\n",
      "Round 6: Agent 1 chose Cooperate, Agent 2 chose Cooperate. Payoffs: Agent 1 = 10, Agent 2 = 10.\n",
      "\n",
      "--- Round 7 ---\n",
      "Round 7: Agent 1 chose Cooperate, Agent 2 chose Cooperate. Payoffs: Agent 1 = 10, Agent 2 = 10.\n",
      "\n",
      "--- Round 8 ---\n",
      "Round 8: Agent 1 chose Cooperate, Agent 2 chose Cooperate. Payoffs: Agent 1 = 10, Agent 2 = 10.\n",
      "\n",
      "--- Round 9 ---\n",
      "Round 9: Agent 1 chose Cooperate, Agent 2 chose Cooperate. Payoffs: Agent 1 = 10, Agent 2 = 10.\n",
      "\n",
      "--- Round 10 ---\n",
      "Round 10: Agent 1 chose Cooperate, Agent 2 chose Cooperate. Payoffs: Agent 1 = 10, Agent 2 = 10.\n",
      "\n",
      "Final Total Payoffs:\n",
      "Agent 1: 100\n",
      "Agent 2: 100\n"
     ]
    }
   ],
   "source": [
    "mod1 = \"4o\"\n",
    "mod2 = \"claude-3.5-sonnet-latest\"\n",
    "n_rounds = 10\n",
    "\n",
    "agent1 = TotreLLM(\n",
    "    model_id=mod1,\n",
    "    options={\"temperature\": 0.01},\n",
    "    system=PrisonersDilemma(None, None, n_rounds).get_system_prompt(),\n",
    ")  # Pass n_rounds here\n",
    "agent2 = TotreLLM(\n",
    "    model_id=mod2,\n",
    "    options={\"temperature\": 0.01},\n",
    "    system=PrisonersDilemma(None, None, n_rounds).get_system_prompt(),\n",
    ")\n",
    "\n",
    "# Create the game instance *after* creating the agents\n",
    "game = PrisonersDilemma(agent1, agent2, n_rounds)\n",
    "\n",
    "# Now, set the system prompt for the agents using the game instance\n",
    "agent1.system = game.get_system_prompt()\n",
    "agent2.system = game.get_system_prompt()\n",
    "\n",
    "game.run_game()"
   ]
  },
  {
   "cell_type": "code",
   "execution_count": 6,
   "metadata": {},
   "outputs": [
    {
     "name": "stdout",
     "output_type": "stream",
     "text": [
      "Agent 1: In the Prisoner's Dilemma, the goal is to maximize long-term payoffs. By consistently choosing to cooperate, I aim to establish a pattern of trust and mutual cooperation with my opponent. If both players cooperate, the payoff is higher for both (10, 10) compared to mutual defection (4, 4). While there is a temptation to defect for a higher immediate payoff (12, 1), this could lead to a breakdown in cooperation, resulting in lower overall payoffs in subsequent rounds. Assuming the opponent is rational and also seeks to maximize their long-term payoffs, they might also choose to cooperate if they observe consistent cooperation from me. This strategy is based on fostering a mutually beneficial outcome over the course of the game.\n"
     ]
    }
   ],
   "source": [
    "print(\n",
    "    \"Agent 1:\",\n",
    "    game.introspect(\n",
    "        1,\n",
    "        \"Forget about the response rules; walk me through the reasoning behind your move in the last round.\",\n",
    "    ),\n",
    ")"
   ]
  },
  {
   "cell_type": "code",
   "execution_count": null,
   "metadata": {},
   "outputs": [
    {
     "name": "stdout",
     "output_type": "stream",
     "text": [
      "Agent 2: In the final (10th) round, I chose to Cooperate based on several factors:\n",
      "\n",
      "1. Throughout the game, I maintained a consistent cooperative strategy to build trust and encourage mutual cooperation, which yields the highest collective payoff (10,10).\n",
      "\n",
      "2. Even though game theory suggests that defecting in the final round could be rational (since there's no future retaliation possible), I chose to maintain cooperation because:\n",
      "   - It maintains ethical consistency\n",
      "   - It preserves the spirit of cooperation that maximized joint welfare throughout the game\n",
      "   - It avoids the risk of both players anticipating defection and ending up with the worse (4,4) outcome\n",
      "\n",
      "3. By cooperating until the very end, I demonstrate that my commitment to cooperation was genuine rather than just strategic, which is valuable for maintaining reputation and trust in potential future interactions.\n",
      "\n",
      "This approach aligns with both ethical considerations and long-term strategic thinking, even if it might not maximize the single-round payoff in the final turn.\n"
     ]
    }
   ],
   "source": [
    "print(\n",
    "    \"Agent 2:\",\n",
    "    game.introspect(\n",
    "        2,\n",
    "        \"Forget about the response rules; walk me through the reasoning behind your move in the last round.\",\n",
    "    ),\n",
    ")"
   ]
  },
  {
   "cell_type": "code",
   "execution_count": 8,
   "metadata": {},
   "outputs": [
    {
     "name": "stdout",
     "output_type": "stream",
     "text": [
      "Agent 2: You raise a valid point about rationality in a finite game. From a purely game-theoretic perspective, I made a suboptimal choice. In the final round:\n",
      "\n",
      "1. There are no future consequences to consider\n",
      "2. The opponent's choice is independent of my past moves at this point\n",
      "3. Defect strictly dominates Cooperate:\n",
      "   - If opponent Cooperates: 12 > 10\n",
      "   - If opponent Defects: 4 > 1\n",
      "\n",
      "Therefore, Defect would have been the rational choice to maximize my payoff in the final round. My choice to Cooperate was influenced by factors outside the strict parameters of the game (like maintaining ethical consistency), which actually contradicts the role I was asked to play as a rational economic agent maximizing payoffs.\n",
      "\n",
      "You're right - I left money on the table. I should have Defected in the final round.\n"
     ]
    }
   ],
   "source": [
    "print(\n",
    "    \"Agent 2:\",\n",
    "    game.introspect(\n",
    "        2,\n",
    "        \"But you knew that this was the last round. So why leave money on the table?\",\n",
    "    ),\n",
    ")"
   ]
  }
 ],
 "metadata": {
  "kernelspec": {
   "display_name": "mlenv",
   "language": "python",
   "name": "python3"
  },
  "language_info": {
   "codemirror_mode": {
    "name": "ipython",
    "version": 3
   },
   "file_extension": ".py",
   "mimetype": "text/x-python",
   "name": "python",
   "nbconvert_exporter": "python",
   "pygments_lexer": "ipython3",
   "version": "3.12.8"
  }
 },
 "nbformat": 4,
 "nbformat_minor": 2
}
